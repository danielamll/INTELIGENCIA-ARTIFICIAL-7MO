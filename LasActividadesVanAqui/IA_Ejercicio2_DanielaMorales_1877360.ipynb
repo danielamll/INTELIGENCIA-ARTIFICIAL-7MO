{
  "nbformat": 4,
  "nbformat_minor": 0,
  "metadata": {
    "colab": {
      "name": "IA_Ejercicio2_DanielaMorales_1877360.ipynb",
      "provenance": [],
      "authorship_tag": "ABX9TyMloSCinw43fWLdIvC3+xn/",
      "include_colab_link": true
    },
    "kernelspec": {
      "name": "python3",
      "display_name": "Python 3"
    },
    "language_info": {
      "name": "python"
    }
  },
  "cells": [
    {
      "cell_type": "markdown",
      "metadata": {
        "id": "view-in-github",
        "colab_type": "text"
      },
      "source": [
        "<a href=\"https://colab.research.google.com/github/danielamll/INTELIGENCIA-ARTIFICIAL-7MO/blob/main/LasActividadesVanAqui/IA_Ejercicio2_DanielaMorales_1877360.ipynb\" target=\"_parent\"><img src=\"https://colab.research.google.com/assets/colab-badge.svg\" alt=\"Open In Colab\"/></a>"
      ]
    },
    {
      "cell_type": "markdown",
      "metadata": {
        "id": "XQXoP6hAscx8"
      },
      "source": [
        "# Actividad 3.- Ejercicios Introducción Python, 2da Parte\n",
        "\n",
        "Daniela Morales Leal 1877360\n",
        "Jueves N4"
      ]
    },
    {
      "cell_type": "code",
      "metadata": {
        "colab": {
          "base_uri": "https://localhost:8080/"
        },
        "id": "3umk-yK5tE9E",
        "outputId": "0efb876c-945e-4783-83f7-b4ff266da1c5"
      },
      "source": [
        "#1.1 Piensa en 7 comidas diferente que te gusten. Implementa un programa que pregunte por las 7 comidas, las almacene en una lista y que posteriermente imprima cada una de ellas utilizando uno de los ciclos comentados en clase. \n",
        "\n",
        "print('¿Cuáles son tus 7 comidas favoritas?')\n",
        "lista = []\n",
        "x=0\n",
        "while x <= 6:\n",
        "  comida = input('Ingrese comida: ')\n",
        "  lista.append(comida)\n",
        "  x+=1\n",
        "\n",
        "print(lista)   \n",
        "  \n",
        "\n"
      ],
      "execution_count": null,
      "outputs": [
        {
          "output_type": "stream",
          "name": "stdout",
          "text": [
            "¿Cuáles son tus 7 comidas favoritas?\n",
            "Ingrese comida: carne\n",
            "Ingrese comida: manzana\n",
            "Ingrese comida: pasta\n",
            "Ingrese comida: sopa\n",
            "Ingrese comida: queso\n",
            "Ingrese comida: huevo\n",
            "Ingrese comida: pollo\n",
            "['carne', 'manzana', 'pasta', 'sopa', 'queso', 'huevo', 'pollo']\n"
          ]
        }
      ]
    },
    {
      "cell_type": "code",
      "metadata": {
        "colab": {
          "base_uri": "https://localhost:8080/"
        },
        "id": "f_Y0hV4DvoVY",
        "outputId": "bc96275b-662d-4f58-8221-3ebb13a65ff4"
      },
      "source": [
        "#1.2 Modifica el ejercicio 1.1 para que imprima cada una de las comidas favoritas junto con una oracición inicial: \"Una de mis comidas favoritas es [comida1]\".  \n",
        "\n",
        "print('¿Cuáles son tus 7 comidas favoritas?')\n",
        "lista = []\n",
        "x=0\n",
        "while x <= 6:\n",
        "  comida = input('Ingrese comida: ')\n",
        "  lista.append(comida)\n",
        "  x+=1\n",
        "\n",
        "for i in lista:\n",
        "  print('Una de mis comidas favoritas es', i) "
      ],
      "execution_count": null,
      "outputs": [
        {
          "output_type": "stream",
          "name": "stdout",
          "text": [
            "¿Cuáles son tus 7 comidas favoritas?\n",
            "Ingrese comida: q\n",
            "Ingrese comida: w\n",
            "Ingrese comida: e\n",
            "Ingrese comida: r\n",
            "Ingrese comida: t\n",
            "Ingrese comida: y\n",
            "Ingrese comida: u\n",
            "Una de mis comidas favoritas es q\n",
            "Una de mis comidas favoritas es w\n",
            "Una de mis comidas favoritas es e\n",
            "Una de mis comidas favoritas es r\n",
            "Una de mis comidas favoritas es t\n",
            "Una de mis comidas favoritas es y\n",
            "Una de mis comidas favoritas es u\n"
          ]
        }
      ]
    },
    {
      "cell_type": "code",
      "metadata": {
        "colab": {
          "base_uri": "https://localhost:8080/"
        },
        "id": "XBGpiIuc2mEe",
        "outputId": "b58f74e5-4ac6-49c9-b366-57f02e104344"
      },
      "source": [
        "#Ejercicio 2\n",
        "#Crear un juego de piedra, papel o tijera de dos jugadores. El programa preguntará por la opción del jugador 1 y la opción del jugador 2 y dará como resultado quien ganó el juego. \n",
        "\n",
        "import random\n",
        "\n",
        "jugador = input('Ingrese piedra, papel o tijera: ')\n",
        "opciones = ['piedra', 'papel', 'tijera']\n",
        "python = random.choice(opciones)\n",
        "\n",
        "if jugador == python:\n",
        "  print('Es un empate')\n",
        "\n",
        "elif jugador == 'piedra':\n",
        "  if python == 'papel':\n",
        "    print('Perdiste con papel')\n",
        "  elif python == 'tijera':\n",
        "    print('ganaste')\n",
        "\n",
        "elif jugador == 'tijera':\n",
        "  if python == 'papel':\n",
        "    print('ganaste')\n",
        "  elif python == 'piedra':\n",
        "    print('perdiste con piedra')\n",
        "  \n",
        "elif jugador == 'papel':\n",
        "  if python == 'piedra':\n",
        "    print('ganaste')\n",
        "  elif python == 'tijera':\n",
        "    print('perdiste con tijera')"
      ],
      "execution_count": null,
      "outputs": [
        {
          "output_type": "stream",
          "name": "stdout",
          "text": [
            "Ingrese piedra, papel o tijera: piedra\n",
            "Es un empate\n"
          ]
        }
      ]
    },
    {
      "cell_type": "code",
      "metadata": {
        "colab": {
          "base_uri": "https://localhost:8080/"
        },
        "id": "HPq07Hc55A3l",
        "outputId": "e1bb8c66-79f5-43c6-b113-f30b2135be07"
      },
      "source": [
        "#Ejercicio 3\n",
        "#Implementar un programa que imprima el siguiente patron:\n",
        "\n",
        "for x in range(0, 6):\n",
        "  for y in range(1, 7-x, +1):\n",
        "    print(y, end='')\n",
        "  print('')\n",
        "\n",
        "for i in range(1, 7):\n",
        "  for j in range(1, i+1):\n",
        "    print(j, end='')\n",
        "  print('')\n",
        "\n"
      ],
      "execution_count": 15,
      "outputs": [
        {
          "output_type": "stream",
          "name": "stdout",
          "text": [
            "123456\n",
            "12345\n",
            "1234\n",
            "123\n",
            "12\n",
            "1\n",
            "1\n",
            "12\n",
            "123\n",
            "1234\n",
            "12345\n",
            "123456\n"
          ]
        }
      ]
    }
  ]
}