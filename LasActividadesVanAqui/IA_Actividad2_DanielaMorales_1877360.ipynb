{
  "nbformat": 4,
  "nbformat_minor": 0,
  "metadata": {
    "colab": {
      "name": "ACTIVIDAD 2 IA.ipynb",
      "provenance": [],
      "collapsed_sections": [],
      "authorship_tag": "ABX9TyN/z6Nf28QvBoq1hIa969dN",
      "include_colab_link": true
    },
    "kernelspec": {
      "name": "python3",
      "display_name": "Python 3"
    },
    "language_info": {
      "name": "python"
    }
  },
  "cells": [
    {
      "cell_type": "markdown",
      "metadata": {
        "id": "view-in-github",
        "colab_type": "text"
      },
      "source": [
        "<a href=\"https://colab.research.google.com/github/danielamll/INTELIGENCIA-ARTIFICIAL-7MO/blob/main/LasActividadesVanAqui/IA_Actividad2_DanielaMorales_1877360.ipynb\" target=\"_parent\"><img src=\"https://colab.research.google.com/assets/colab-badge.svg\" alt=\"Open In Colab\"/></a>"
      ]
    },
    {
      "cell_type": "code",
      "metadata": {
        "id": "uOF_-1alepJP"
      },
      "source": [
        "#Actividad 2.- Ejercicios Introducción Python\n",
        "# Daniela Morales Leal    1877360   \n"
      ],
      "execution_count": 1,
      "outputs": []
    },
    {
      "cell_type": "code",
      "metadata": {
        "id": "Np54rZkjfFcP",
        "colab": {
          "base_uri": "https://localhost:8080/"
        },
        "outputId": "afb20283-5b1d-4e3d-c4c4-48596c432ced"
      },
      "source": [
        "#EJERCICIO 1\n",
        "\n",
        "#Para obtener la información de usuario se utiliza la función input, la cual aloja los valores como string por lo cual se pueden sumar sin hacer conversión\n",
        "nom = input('¿Cuál es tu nombre?  ')\n",
        "edad = input('¿Cuál es tu edad?  ')\n",
        "frase = input('¿Cuál es tu frase favorita?  ')\n",
        "autor = input('¿Quién es el autor de la frase?  ')\n",
        "#Para el mensaje, solo se suman los inputs obtenidos y se agregan las comas, espacios y se completa la frase.\n",
        "mensaje = nom + ', ' + edad +', su frase favorita es ' + frase + ' y el autor de la frase es ' + autor + '.'\n",
        "print(mensaje)\n"
      ],
      "execution_count": 2,
      "outputs": [
        {
          "output_type": "stream",
          "name": "stdout",
          "text": [
            "¿Cuál es tu nombre?  Daniela\n",
            "¿Cuál es tu edad?  21\n",
            "¿Cuál es tu frase favorita?  yoru fast combo\n",
            "¿Quién es el autor de la frase?  Joan Hernández\n",
            "Daniela, 21, su frase favorita es yoru fast combo y el autor de la frase es Joan Hernández.\n"
          ]
        }
      ]
    },
    {
      "cell_type": "code",
      "metadata": {
        "colab": {
          "base_uri": "https://localhost:8080/"
        },
        "id": "_1ng-vT7hnwO",
        "outputId": "718b96c3-6e7f-4ab8-cb2b-e50b5b33128c"
      },
      "source": [
        "\n",
        "#EJERCICIO 2\n",
        "\n",
        "#Se deben pedir los números enteros y flotantes al usuario, se recuerda que input ingresa los valores como str por lo que se agrega int antes para poder tenerlo como entero\n",
        "print('Ingrese 2 números enteros')\n",
        "n1 = int(input('Ingrese n1: '))\n",
        "n2 = int(input('Ingrese n2: '))\n",
        "\n",
        "print('Ingrese 2 números flotantes')\n",
        "f1 = float(input('Ingrese f1: '))\n",
        "f2 = float(input('Ingrese f2: '))\n",
        "\n",
        "suma_n = (n1 + n2)\n",
        "resta_n = (n1 - n2)\n",
        "mult_n = n1*n2\n",
        "div_n = n1/n2\n",
        "\n",
        "suma_f = f1 + f2\n",
        "resta_f = f1 - f2\n",
        "mult_f = f1*f2\n",
        "div_f = f1/f2\n",
        "\n",
        "#Para imprimir, como son valores int ya no se suman, se usa \",\" y el nombre de la variable\n",
        "print('Resultados de enteros')\n",
        "print('Suma:', suma_n)\n",
        "print('Resta: ', resta_n)\n",
        "print('Multiplicación', mult_n)\n",
        "print('División: ', div_n)\n",
        "\n",
        "print('Resultados de flotantes')\n",
        "print('Suma:', suma_f)\n",
        "print('Resta: ', resta_f)\n",
        "print('Multiplicación', mult_f)\n",
        "print('División: ', div_f)\n",
        "\n"
      ],
      "execution_count": 6,
      "outputs": [
        {
          "output_type": "stream",
          "name": "stdout",
          "text": [
            "Ingrese 2 números enteros\n",
            "Ingrese n1: 2\n",
            "Ingrese n2: 1\n",
            "Ingrese 2 números flotantes\n",
            "Ingrese f1: 1.001\n",
            "Ingrese f2: 2.001\n",
            "Resultados de enteros\n",
            "Suma: 3\n",
            "Resta:  1\n",
            "Multiplicación 2\n",
            "División:  2.0\n",
            "Resultados de flotantes\n",
            "Suma: 3.002\n",
            "Resta:  -1.0\n",
            "Multiplicación 2.003001\n",
            "División:  0.5002498750624688\n"
          ]
        }
      ]
    },
    {
      "cell_type": "code",
      "metadata": {
        "id": "BTluoz2Km-fn",
        "colab": {
          "base_uri": "https://localhost:8080/"
        },
        "outputId": "cfbded1d-3a99-45b0-dc67-398c6e5ec864"
      },
      "source": [
        "#Ejercicio 3\n",
        "#AND con AND todos los resultados son falsos a menos que ambas comparaciones sean verdaderas\n",
        "resand1 = 2*2 >= 8 and 3-1 < 3\n",
        "print(resand1)\n",
        "\n",
        "resand2 = 5==3+2 and 9 > 0\n",
        "print(resand2)\n",
        "\n",
        "#OR con or todo es verdadero a menos que ambas comparaciones sean falsas\n",
        "resor1 = True > False or True == True\n",
        "print(resor1)\n",
        "\n",
        "resor2 = 7 + 1 < 0 or 8 < 6\n",
        "print(resor2)\n",
        "\n",
        "#NOT con not verdadero se hace falso y falso tiene como resultado verdadero\n",
        "resnot1 = not 6 < 5\n",
        "print(resnot1)\n",
        "\n",
        "resnot2 = not 9 > 0\n",
        "print(resnot2)"
      ],
      "execution_count": 7,
      "outputs": [
        {
          "output_type": "stream",
          "name": "stdout",
          "text": [
            "False\n",
            "True\n",
            "True\n",
            "False\n",
            "True\n",
            "False\n"
          ]
        }
      ]
    },
    {
      "cell_type": "code",
      "metadata": {
        "id": "NnkTjLapQJes"
      },
      "source": [
        ""
      ],
      "execution_count": null,
      "outputs": []
    }
  ]
}