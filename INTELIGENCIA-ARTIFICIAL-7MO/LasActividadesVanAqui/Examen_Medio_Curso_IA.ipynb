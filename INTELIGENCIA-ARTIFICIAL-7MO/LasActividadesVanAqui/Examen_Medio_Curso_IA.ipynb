{
  "nbformat": 4,
  "nbformat_minor": 0,
  "metadata": {
    "colab": {
      "name": "Examen-Medio-Curso-IA.ipynb",
      "provenance": [],
      "authorship_tag": "ABX9TyN0I+VWfu0VGr1nX18gBToO",
      "include_colab_link": true
    },
    "kernelspec": {
      "name": "python3",
      "display_name": "Python 3"
    },
    "language_info": {
      "name": "python"
    }
  },
  "cells": [
    {
      "cell_type": "markdown",
      "metadata": {
        "id": "view-in-github",
        "colab_type": "text"
      },
      "source": [
        "<a href=\"https://colab.research.google.com/github/danielamll/INTELIGENCIA-ARTIFICIAL-7MO/blob/main/INTELIGENCIA-ARTIFICIAL-7MO/LasActividadesVanAqui/Examen_Medio_Curso_IA.ipynb\" target=\"_parent\"><img src=\"https://colab.research.google.com/assets/colab-badge.svg\" alt=\"Open In Colab\"/></a>"
      ]
    },
    {
      "cell_type": "code",
      "metadata": {
        "colab": {
          "base_uri": "https://localhost:8080/"
        },
        "id": "e4j3LJDODfaU",
        "outputId": "96052f51-1e3e-4e97-95de-a0ae8a605f76"
      },
      "source": [
        "ex_lista = [10, 15, 17, 21, 22, 34, 37, 40, 45, 52, 66, 68, 81, 84, 91, 94, 102, 105, 109]\n",
        "lista=[]\n",
        "for x in ex_lista:\n",
        "  if x%2 != 0:\n",
        "    lista.append(x) \n",
        "\n",
        "print(lista)"
      ],
      "execution_count": 9,
      "outputs": [
        {
          "output_type": "stream",
          "name": "stdout",
          "text": [
            "[15, 17, 21, 37, 45, 81, 91, 105, 109]\n"
          ]
        }
      ]
    },
    {
      "cell_type": "code",
      "metadata": {
        "colab": {
          "base_uri": "https://localhost:8080/"
        },
        "id": "JxoVZ6sAD-gJ",
        "outputId": "de5544cf-16d4-4551-f1fb-0a71a1974e4e"
      },
      "source": [
        "listap = []\n",
        "x = 0\n",
        "i = 0\n",
        "\n",
        "print('Cuáles son tus 5 peliculas favoritas inciando con la  más favorita y terminando con la menos favorita en orden')\n",
        "\n",
        "while x <= 4:\n",
        "  pelis = input(\"ingrese película:  \")\n",
        "  listap.append(pelis)\n",
        "  x+=1\n",
        "\n",
        "for x in listap:\n",
        "  i+= 1\n",
        "  print(\"La película \", x , \"está en la posición\", i , \"de mi top 5\" )\n",
        "\n"
      ],
      "execution_count": 15,
      "outputs": [
        {
          "output_type": "stream",
          "name": "stdout",
          "text": [
            "Cuáles son tus 5 peliculas favoritas inciando con la  más favorita y terminando con la menos favorita en orden\n",
            "ingrese película:  megamente\n",
            "ingrese película:  Os Carrihnos\n",
            "ingrese película:  Kung Fury\n",
            "ingrese película:  Sharknado\n",
            "ingrese película:  Crepúsculo\n",
            "La película  megamente está en la posición 1 de mi top 5\n",
            "La película  Os Carrihnos está en la posición 2 de mi top 5\n",
            "La película  Kung Fury está en la posición 3 de mi top 5\n",
            "La película  Sharknado está en la posición 4 de mi top 5\n",
            "La película  Crepúsculo está en la posición 5 de mi top 5\n"
          ]
        }
      ]
    },
    {
      "cell_type": "code",
      "metadata": {
        "id": "muwfQSfrHQlg"
      },
      "source": [
        ""
      ],
      "execution_count": null,
      "outputs": []
    }
  ]
}